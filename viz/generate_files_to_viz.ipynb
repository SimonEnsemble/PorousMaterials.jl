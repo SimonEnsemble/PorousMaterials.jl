{
 "cells": [
  {
   "cell_type": "code",
   "execution_count": 10,
   "metadata": {},
   "outputs": [
    {
     "name": "stdout",
     "output_type": "stream",
     "text": [
      "general data folder: ../test/data\n",
      "\tcrystal structures (.cif, .cssr): ../test/data/crystals\n",
      "\tforce field files (.csv): ../test/data/forcefields\n",
      "\tmolecule input files: ../test/data/molecules\n",
      "\tsimulation output files: ../test/data/simulations\n",
      "\tgrids (.cube): ../test/data/grids\n",
      "See IRMOF-1.vtk\n",
      "Computing energy grid of CH4 in IRMOF-1.cif\n",
      "\tRegular grid (in fractional space) of 20 by 20 by 20 points superimposed over the unit cell.\n",
      "\tSee /home/cokes/.julia/dev/PorousMaterials/viz/CH4_in_IRMOF-1.cube\n"
     ]
    }
   ],
   "source": [
    "using PorousMaterials\n",
    "\n",
    "set_path_to_data(joinpath(\"..\", \"test\", \"data\"))\n",
    "@eval PorousMaterials PATH_TO_CRYSTALS = pwd()\n",
    "@eval PorousMaterials PATH_TO_GRIDS = pwd()\n",
    "\n",
    "xtal = Crystal(\"IRMOF-1.cif\")\n",
    "write_xyz(xtal)\n",
    "write_vtk(xtal)\n",
    "mol = Molecule(\"CH4\")\n",
    "ljff = LJForceField(\"UFF\")\n",
    "grid = energy_grid(xtal, mol, ljff, n_pts=(20, 20, 20))\n",
    "\n",
    "write_cube(grid, \"CH4_in_IRMOF-1.cube\", length_units=\"Bohr\")"
   ]
  },
  {
   "cell_type": "markdown",
   "metadata": {},
   "source": [
    "py3Dmol can view .cif's but not ones written from PorousMaterials.jl!"
   ]
  },
  {
   "cell_type": "code",
   "execution_count": 9,
   "metadata": {},
   "outputs": [],
   "source": [
    "xtal = Crystal(\"FIQCEN_clean.cif\")\n",
    "write_cif(xtal, \"FIQCEN_pm.cif\", number_atoms=false)"
   ]
  },
  {
   "cell_type": "code",
   "execution_count": null,
   "metadata": {},
   "outputs": [],
   "source": []
  }
 ],
 "metadata": {
  "kernelspec": {
   "display_name": "Julia 1.5.0",
   "language": "julia",
   "name": "julia-1.5"
  },
  "language_info": {
   "file_extension": ".jl",
   "mimetype": "application/julia",
   "name": "julia",
   "version": "1.5.0"
  }
 },
 "nbformat": 4,
 "nbformat_minor": 4
}
