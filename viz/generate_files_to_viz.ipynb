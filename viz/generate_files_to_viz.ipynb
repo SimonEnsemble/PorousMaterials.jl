{
 "cells": [
  {
   "cell_type": "code",
   "execution_count": 1,
   "metadata": {},
   "outputs": [
    {
     "name": "stderr",
     "output_type": "stream",
     "text": [
      "┌ Info: Precompiling PorousMaterials [68953c7c-a3c7-538e-83d3-73516288599e]\n",
      "└ @ Base loading.jl:1278\n"
     ]
    },
    {
     "name": "stdout",
     "output_type": "stream",
     "text": [
      "general data folder: ../test/data\n",
      "\tcrystal structures (.cif, .cssr): ../test/data/crystals\n",
      "\tforce field files (.csv): ../test/data/forcefields\n",
      "\tmolecule input files: ../test/data/molecules\n",
      "\tsimulation output files: ../test/data/simulations\n",
      "\tgrids (.cube): ../test/data/grids\n",
      "See IRMOF-1.vtk\n"
     ]
    }
   ],
   "source": [
    "using PorousMaterials, PyCall\n",
    "\n",
    "set_path_to_data(joinpath(\"..\", \"test\", \"data\"))\n",
    "\n",
    "xtal = Crystal(\"IRMOF-1.cssr\")\n",
    "write_xyz(xtal)\n",
    "write_vtk(xtal)"
   ]
  },
  {
   "cell_type": "code",
   "execution_count": 5,
   "metadata": {},
   "outputs": [
    {
     "name": "stdout",
     "output_type": "stream",
     "text": [
      "Computing energy grid of CH4 in IRMOF-1.cssr\n",
      "\tRegular grid (in fractional space) of 20 by 20 by 20 points superimposed over the unit cell.\n",
      "\tSee ../test/data/grids/CH4_in_IRMOF-1.cube\n"
     ]
    },
    {
     "data": {
      "text/plain": [
       "Process(`\u001b[4mmv\u001b[24m \u001b[4m../test/data/grids/CH4_in_IRMOF-1.cube\u001b[24m \u001b[4m.\u001b[24m`, ProcessExited(0))"
      ]
     },
     "execution_count": 5,
     "metadata": {},
     "output_type": "execute_result"
    }
   ],
   "source": [
    "mol = Molecule(\"CH4\")\n",
    "ljff = LJForceField(\"UFF\")\n",
    "grid = energy_grid(xtal, mol, ljff, n_pts=(20,20,20))\n",
    "grid.box\n",
    "\n",
    "write_cube(grid, \"CH4_in_IRMOF-1.cube\", length_units=\"Bohr\")\n",
    "\n",
    "run(`mv ../test/data/grids/CH4_in_IRMOF-1.cube .`)"
   ]
  },
  {
   "cell_type": "code",
   "execution_count": null,
   "metadata": {},
   "outputs": [],
   "source": []
  },
  {
   "cell_type": "code",
   "execution_count": null,
   "metadata": {},
   "outputs": [],
   "source": []
  }
 ],
 "metadata": {
  "kernelspec": {
   "display_name": "Julia 1.5.0",
   "language": "julia",
   "name": "julia-1.5"
  },
  "language_info": {
   "file_extension": ".jl",
   "mimetype": "application/julia",
   "name": "julia",
   "version": "1.5.0"
  }
 },
 "nbformat": 4,
 "nbformat_minor": 4
}
